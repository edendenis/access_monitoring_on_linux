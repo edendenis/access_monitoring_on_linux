{
 "cells": [
  {
   "cell_type": "markdown",
   "metadata": {},
   "source": [
    "# Como configurar/instalar/usar o `Monitoramento de Acesso` no `Linux Ubuntu`\n",
    "\n",
    "## Resumo\n",
    "\n",
    "Neste documento estão contidos os principais comandos e configurações para configurar/instalar/usar o `Monitoramento de Acesso` no `Linux Ubuntu`.\n",
    "\n",
    "## _Abstract_\n",
    "\n",
    "_In this document are contained the main commands and settings to set up/install/use the `Access Monitoring` on `Linux Ubuntu`._\n"
   ]
  },
  {
   "cell_type": "markdown",
   "metadata": {},
   "source": [
    "## Descrição [2]\n",
    "\n",
    "### `Monitoramento de acesso`\n",
    "\n",
    "O monitoramento de acesso é o processo de rastrear e registrar as atividades de usuários em sistemas de computador, redes ou recursos específicos. Isso inclui acompanhar quem acessa o sistema, quando e quais ações são realizadas. Essa prática é fundamental para garantir a segurança da informação, detectar comportamentos suspeitos ou não autorizados, e cumprir requisitos de conformidade regulatória. O monitoramento de acesso geralmente envolve a coleta e análise de logs, uso de ferramentas de segurança, como firewalls e sistemas de detecção de intrusões, e a implementação de políticas de acesso e controle de privilégios.\n"
   ]
  },
  {
   "cell_type": "markdown",
   "metadata": {},
   "source": [
    "## 1. Como configurar/instalar o `auditd` no `Linux Ubuntu` [1][3]\n",
    "\n",
    "Para configurar/instalar o `auditd` no `Linux Ubuntu`, você pode seguir estes passos:\n",
    "\n",
    "1. Abra o `Terminal Emulator`. Você pode fazer isso pressionando: `Ctrl + Alt + T`    "
   ]
  },
  {
   "cell_type": "markdown",
   "metadata": {},
   "source": [
    "2. Certifique-se de que seu sistema esteja limpo e atualizado.\n",
    "\n",
    "    2.1 Limpar o `cache` do gerenciador de pacotes APT. Especificamente, ele remove todos os arquivos de pacotes (`.deb`) baixados pelo APT e armazenados em `/var/cache/apt/archives/`. Digite o seguinte comando: `sudo apt clean` \n",
    "    \n",
    "    2.2 Remover pacotes `.deb` antigos ou duplicados do cache local. É útil para liberar espaço, pois remove apenas os pacotes que não podem mais ser baixados (ou seja, versões antigas de pacotes que foram atualizados). Digite o seguinte comando: `sudo apt autoclean`\n",
    "\n",
    "    2.3 Remover pacotes que foram automaticamente instalados para satisfazer as dependências de outros pacotes e que não são mais necessários. Digite o seguinte comando: `sudo apt autoremove -y`\n",
    "\n",
    "    2.4 Buscar as atualizações disponíveis para os pacotes que estão instalados em seu sistema. Digite o seguinte comando e pressione `Enter`: `sudo apt update -y`\n",
    "\n",
    "    2.5 Para ver a lista de pacotes a serem atualizados, digite o seguinte comando e pressione `Enter`:  `sudo apt list --upgradable`\n",
    "\n",
    "    2.6 Realmente atualizar os pacotes instalados para as suas versões mais recentes, com base na última vez que você executou `sudo apt update -y`. Digite o seguinte comando e pressione `Enter`: `sudo apt full-upgrade -y`\n",
    "\n",
    "    2.7 Remover pacotes que foram automaticamente instalados para satisfazer as dependências de outros pacotes e que não são mais necessários. Digite o seguinte comando: `sudo apt autoremove -y`\n",
    "\n",
    "    2.8 Remover pacotes `.deb` antigos ou duplicados do cache local. É útil para liberar espaço, pois remove apenas os pacotes que não podem mais ser baixados (ou seja, versões antigas de pacotes que foram atualizados). Digite o seguinte comando: `sudo apt autoclean`"
   ]
  },
  {
   "cell_type": "markdown",
   "metadata": {},
   "source": [
    "Para verificar se alguém está tentando acessar seu computador no `Linux` através do `Terminal Emulator`, você pode usar várias ferramentas e comandos que fornecem informações sobre as conexões de rede, usuários logados e tentativas de login. Aqui estão algumas maneiras de fazer isso:\n",
    "\n",
    "1. **`who`:** Mostra quem está logado no momento: `who`  \n",
    "\n",
    "2. **`w`:** Exibe quem está logado e o que estão fazendo: `w`\n",
    "\n",
    "3. **`last`:** Mostra um registro das últimas logins no sistema. Pode ser útil para ver tentativas recentes de acesso: `last`\n",
    "\n",
    "3. **`netstat`:** Fornece uma variedade de estatísticas de rede. Para ver conexões ativas, você pode usar: `netstat -tunapl`\n",
    "\n",
    "-`-t` (TCP)\n",
    "-`-u` (UDP)\n",
    "-`-n` (Endereços como números)\n",
    "-`-a` (Mostra todas as conexões)\n",
    "-`-p` (Mostra o programa associado a cada conexão)\n",
    "\n",
    "### 1.1 Para usuários de sistemas que usam o `ss` em vez do `netstat`:\n",
    "\n",
    "1. **Verificar logs do sistema:** Logs como `/var/log/auth.log` (em sistemas baseados em Debian) podem fornecer informações sobre tentativas de login e outras atividades de autenticação: `sudo cat /var/log/auth.log`\n",
    "\n",
    "É importante manter o sistema atualizado e seguir as melhores práticas de segurança, como usar firewalls, alterar senhas regularmente e usar autenticação de dois fatores, se possível, para melhor proteger seu sistema contra acessos não autorizados."
   ]
  },
  {
   "cell_type": "markdown",
   "metadata": {
    "vscode": {
     "languageId": "plaintext"
    }
   },
   "source": [
    "### 1.2 Código completo para configurar/instalar\n",
    "\n",
    "Para configurar/instalar o `auditd` no `Linux Ubuntu` sem precisar digitar linha por linha, você pode seguir estas etapas:\n",
    "\n",
    "1. Abra o `Terminal Emulator`. Você pode fazer isso pressionando: `Ctrl + Alt + T`\n",
    "\n",
    "2. Digite o seguinte comando e pressione `Enter`:\n",
    "\n",
    "    ```\n",
    "    **NÃO há.**\n",
    "    ```\n",
    "    "
   ]
  },
  {
   "cell_type": "markdown",
   "metadata": {
    "vscode": {
     "languageId": "plaintext"
    }
   },
   "source": [
    "## Referências\n",
    "\n",
    "[1] OPENAI. ***Monitoramento de Acesso no Linux.*** Disponível em: <https://chat.openai.com/c/7772a507-88e7-46c8-ad7a-64a2d9011843> (texto adaptado). ChatGPT. Acessado em: 21/02/2024 12:00.\n",
    "\n",
    "[2] OPENAI. ***Vs code: editor popular.*** Disponível em: <https://chat.openai.com/c/b640a25d-f8e3-4922-8a3b-ed74a2657e42> (texto adaptado). ChatGPT. Acessado em: 21/02/2024 12:00.\n"
   ]
  }
 ],
 "metadata": {
  "kernelspec": {
   "display_name": "Python 3",
   "language": "python",
   "name": "python3"
  },
  "language_info": {
   "codemirror_mode": {
    "name": "ipython",
    "version": 3
   },
   "file_extension": ".py",
   "mimetype": "text/x-python",
   "name": "python",
   "nbconvert_exporter": "python",
   "pygments_lexer": "ipython3",
   "version": "3.11.5"
  },
  "orig_nbformat": 4
 },
 "nbformat": 4,
 "nbformat_minor": 2
}
